from urllib.request import urlopen
import re
basliklar = ['metin2--1824794']#,'aaron-swartz--1672435'


def vericek(data,baslangic,bitis):
    rt=''
    try:
        offset=data.index(baslangic)
        offset_data = data[offset+len(baslangic):] 
        offy=offset_data.index(bitis)  
        rt = offset_data[:offy]
    except:
        #print("An exception occurred")
        rt=''
    return rt
 
def entry_al(body):
    pg_clr = vericek(body,"entry-item-list","</ul>")
    #print(pg_cnt)
    #print("---------------------------------------------")
    words = pg_clr.split("<li")
    for current_word in words:
        #print("---------------------------------------------")
        author = vericek(current_word, 'data-author="', '"')
        favs = vericek(current_word, 'data-favorite-count="', '"')
        eid = vericek(current_word, 'data-id="', '"') 
        if favs.isdigit() and int(favs)>0:
            #print(favs)
            fav_eid.append(eid)
        if len(author)>0: data_authors.append(author)
    #print(body)



data_authors = []
fav_eid = []
for x in basliklar:
   # print(x)
    url = 'https://eksisozluk.com/'+x
    data = urlopen(url).read() #bytes
    body = data.decode('utf-8')
    pg_cnt = vericek(body,'data-pagecount="','"')
    
    entry_al(body)
    
    for i in range(35, int(pg_cnt)+1):
        url2= url+'?p='+str(i)
        print(url2)
        data = urlopen(url2).read() #bytes
        body = data.decode('utf-8')
        entry_al(body)
     

for a in data_authors: print(a)
for e in fav_eid: print(e)
