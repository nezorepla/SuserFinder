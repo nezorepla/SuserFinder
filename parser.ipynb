from urllib.request import urlopen
import re
basliklar = ['metin2--1824794','aaron-swartz--1672435']
#data-author = []

def vericek(data,baslangic,bitis):
    offset=data.index(baslangic)
    y=data.index(bitis)
    length  = y-offset
    rt = data[offset+len(baslangic):offset+length]
    return rt
for x in basliklar:
   # print(x)
    data = urlopen('https://eksisozluk.com/'+x).read() #bytes
    body = data.decode('utf-8')
    print(vericek(body,'<ul id="entry-item-list">','</ul>')
